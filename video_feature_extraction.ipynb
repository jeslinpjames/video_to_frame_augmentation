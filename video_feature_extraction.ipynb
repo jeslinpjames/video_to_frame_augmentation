{
  "nbformat": 4,
  "nbformat_minor": 0,
  "metadata": {
    "colab": {
      "provenance": [],
      "authorship_tag": "ABX9TyOI4AWRDf7pF9DjqmdosDnw",
      "include_colab_link": true
    },
    "kernelspec": {
      "name": "python3",
      "display_name": "Python 3"
    },
    "language_info": {
      "name": "python"
    }
  },
  "cells": [
    {
      "cell_type": "markdown",
      "metadata": {
        "id": "view-in-github",
        "colab_type": "text"
      },
      "source": [
        "<a href=\"https://colab.research.google.com/github/nazalnihad/video_feature_extraction/blob/main/video_feature_extraction.ipynb\" target=\"_parent\"><img src=\"https://colab.research.google.com/assets/colab-badge.svg\" alt=\"Open In Colab\"/></a>"
      ]
    },
    {
      "cell_type": "code",
      "execution_count": 1,
      "metadata": {
        "id": "Cv4m0pOKFB2B"
      },
      "outputs": [],
      "source": [
        "from google.colab import drive\n",
        "import cv2\n",
        "import os"
      ]
    },
    {
      "cell_type": "code",
      "source": [
        "# mount drive\n",
        "drive.mount('/content/drive')"
      ],
      "metadata": {
        "colab": {
          "base_uri": "https://localhost:8080/"
        },
        "id": "sx255-FoFImX",
        "outputId": "16f427b4-8971-429c-8f14-92614ffbf6e1"
      },
      "execution_count": 2,
      "outputs": [
        {
          "output_type": "stream",
          "name": "stdout",
          "text": [
            "Mounted at /content/drive\n"
          ]
        }
      ]
    },
    {
      "cell_type": "code",
      "source": [
        "#  path\n",
        "video_path = '/content/drive/MyDrive/vid_extraction/test.mp4'\n",
        "\n",
        "# label\n",
        "image_label = input(\"Enter the label : \")\n",
        "\n",
        "# folder for extracted data\n",
        "while True:\n",
        "    output_folder_name = input(\"Enter the output folder name: \")\n",
        "    output_dir = os.path.join(os.path.dirname(video_path), output_folder_name)\n",
        "\n",
        "    if not os.path.exists(output_dir):\n",
        "        os.makedirs(output_dir)\n",
        "        break\n",
        "    else:\n",
        "        print(f\"{output_folder_name} folder already exists. Please choose a different name.\")\n",
        "\n",
        "# open vid\n",
        "vid = cv2.VideoCapture(video_path)\n",
        "\n",
        "if not vid.isOpened():\n",
        "    print(\"could not open video\")\n",
        "    exit()\n",
        "\n",
        "count = 0\n",
        "while True:\n",
        "    exist, image = vid.read()\n",
        "\n",
        "    if not exist:\n",
        "        break\n",
        "\n",
        "    label = os.path.join(output_dir, f\"{image_label}_{count}.jpeg\")\n",
        "    cv2.imwrite(label, image)\n",
        "    count += 1\n",
        "\n",
        "vid.release()\n",
        "cv2.destroyAllWindows()\n",
        "\n",
        "print(\"Extracted successfully\")"
      ],
      "metadata": {
        "colab": {
          "base_uri": "https://localhost:8080/"
        },
        "id": "tyQPOlivFaFi",
        "outputId": "28ab9fbf-d192-418f-bc2f-3869d2d1a48f"
      },
      "execution_count": 3,
      "outputs": [
        {
          "output_type": "stream",
          "name": "stdout",
          "text": [
            "Enter the label : test\n",
            "Enter the output folder name: extracted\n",
            "Extracted successfully\n"
          ]
        }
      ]
    },
    {
      "cell_type": "code",
      "source": [],
      "metadata": {
        "id": "0DkcrNKEGP31"
      },
      "execution_count": null,
      "outputs": []
    }
  ]
}
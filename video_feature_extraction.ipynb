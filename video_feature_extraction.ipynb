{
  "nbformat": 4,
  "nbformat_minor": 0,
  "metadata": {
    "colab": {
      "provenance": [],
      "authorship_tag": "ABX9TyM7qGZEYutdFXYw3ndxwR0a",
      "include_colab_link": true
    },
    "kernelspec": {
      "name": "python3",
      "display_name": "Python 3"
    },
    "language_info": {
      "name": "python"
    }
  },
  "cells": [
    {
      "cell_type": "markdown",
      "metadata": {
        "id": "view-in-github",
        "colab_type": "text"
      },
      "source": [
        "<a href=\"https://colab.research.google.com/github/nazalnihad/video_feature_extraction/blob/main/video_feature_extraction.ipynb\" target=\"_parent\"><img src=\"https://colab.research.google.com/assets/colab-badge.svg\" alt=\"Open In Colab\"/></a>"
      ]
    },
    {
      "cell_type": "code",
      "execution_count": 1,
      "metadata": {
        "id": "Cv4m0pOKFB2B"
      },
      "outputs": [],
      "source": [
        "from google.colab import drive\n",
        "import cv2\n",
        "import os"
      ]
    },
    {
      "cell_type": "code",
      "source": [
        "# mount drive\n",
        "drive.mount('/content/drive')"
      ],
      "metadata": {
        "colab": {
          "base_uri": "https://localhost:8080/"
        },
        "id": "sx255-FoFImX",
        "outputId": "eceb7ae0-ff00-45d6-ee20-4b0df2687629"
      },
      "execution_count": 3,
      "outputs": [
        {
          "output_type": "stream",
          "name": "stdout",
          "text": [
            "Drive already mounted at /content/drive; to attempt to forcibly remount, call drive.mount(\"/content/drive\", force_remount=True).\n"
          ]
        }
      ]
    },
    {
      "cell_type": "code",
      "source": [
        "#  path\n",
        "video_path = '/content/drive/MyDrive/vid_extraction/test.mp4'\n",
        "\n",
        "# label\n",
        "image_label = input(\"Enter the label : \")\n",
        "\n",
        "# folder for extracted data\n",
        "output_dir = os.path.join(os.path.dirname(video_path), \"extracted\")\n",
        "os.makedirs(output_dir, exist_ok=True)\n",
        "\n",
        "# open vid\n",
        "vid = cv2.VideoCapture(video_path)\n",
        "\n",
        "if not vid.isOpened():\n",
        "    print(\"Error: Could not open video.\")\n",
        "    exit()\n",
        "\n",
        "count = 0\n",
        "while True:\n",
        "    exist, image = vid.read()\n",
        "\n",
        "    if not exist:\n",
        "        break\n",
        "\n",
        "    label = os.path.join(output_dir, f\"{image_label}_{count}.jpeg\")\n",
        "    cv2.imwrite(label, image)\n",
        "    count += 1\n",
        "\n",
        "vid.release()\n",
        "cv2.destroyAllWindows()"
      ],
      "metadata": {
        "colab": {
          "base_uri": "https://localhost:8080/"
        },
        "id": "tyQPOlivFaFi",
        "outputId": "ddf49cfa-95af-4876-d4f3-4ca8354780a4"
      },
      "execution_count": 4,
      "outputs": [
        {
          "name": "stdout",
          "output_type": "stream",
          "text": [
            "Enter the label : test\n"
          ]
        }
      ]
    },
    {
      "cell_type": "code",
      "source": [],
      "metadata": {
        "id": "0DkcrNKEGP31"
      },
      "execution_count": null,
      "outputs": []
    }
  ]
}
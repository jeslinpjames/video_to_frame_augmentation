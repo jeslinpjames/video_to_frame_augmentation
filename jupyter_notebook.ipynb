{
 "cells": [
  {
   "cell_type": "code",
   "execution_count": 2,
   "id": "f9076443",
   "metadata": {},
   "outputs": [
    {
     "name": "stdout",
     "output_type": "stream",
     "text": [
      "Collecting opencv-python\n",
      "  Downloading opencv_python-4.8.1.78-cp37-abi3-win_amd64.whl (38.1 MB)\n",
      "     ---------------------------------------- 38.1/38.1 MB 5.6 MB/s eta 0:00:00\n",
      "Requirement already satisfied: numpy>=1.17.3 in c:\\users\\nazal\\anaconda3\\lib\\site-packages (from opencv-python) (1.23.5)\n",
      "Installing collected packages: opencv-python\n",
      "Successfully installed opencv-python-4.8.1.78\n",
      "Note: you may need to restart the kernel to use updated packages.\n"
     ]
    },
    {
     "name": "stderr",
     "output_type": "stream",
     "text": [
      "\n",
      "[notice] A new release of pip is available: 23.0.1 -> 23.2.1\n",
      "[notice] To update, run: python.exe -m pip install --upgrade pip\n"
     ]
    }
   ],
   "source": [
    "pip install opencv-python"
   ]
  },
  {
   "cell_type": "code",
   "execution_count": 12,
   "id": "0fa4d9d8",
   "metadata": {},
   "outputs": [],
   "source": [
    "import cv2\n",
    "import os"
   ]
  },
  {
   "cell_type": "code",
   "execution_count": null,
   "id": "53eaa527",
   "metadata": {},
   "outputs": [],
   "source": [
    "# video path\n",
    "path = input(\"Enter the video path : \")\n",
    "image_label = input(\"Enter the label : \")\n",
    "folder_name = input(\"folder : \")\n",
    "vid = cv2.VideoCapture(path)\n",
    "\n",
    "video_dir = os.path.dirname(path)\n",
    "output_dir = os.path.join(video_dir,folder_name)\n",
    "os.makedirs(output_dir,exist_ok=True)\n",
    "\n",
    "exist , images = vid.read()\n",
    "count = 0\n",
    "while True:\n",
    "    \n",
    "    exist , image = vid.read()\n",
    "    \n",
    "    if(not exist):\n",
    "        break\n",
    "    \n",
    "    label = os.path.join(output_dir,f\"{image_label+str(count)}.jpeg\")\n",
    "    cv2.imwrite(label , image)\n",
    "    count+=1"
   ]
  },
  {
   "cell_type": "code",
   "execution_count": null,
   "id": "13cacbc4",
   "metadata": {},
   "outputs": [],
   "source": []
  }
 ],
 "metadata": {
  "kernelspec": {
   "display_name": "Python 3 (ipykernel)",
   "language": "python",
   "name": "python3"
  },
  "language_info": {
   "codemirror_mode": {
    "name": "ipython",
    "version": 3
   },
   "file_extension": ".py",
   "mimetype": "text/x-python",
   "name": "python",
   "nbconvert_exporter": "python",
   "pygments_lexer": "ipython3",
   "version": "3.9.13"
  }
 },
 "nbformat": 4,
 "nbformat_minor": 5
}
